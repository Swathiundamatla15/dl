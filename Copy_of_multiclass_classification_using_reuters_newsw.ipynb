{
  "nbformat": 4,
  "nbformat_minor": 0,
  "metadata": {
    "colab": {
      "provenance": [],
      "authorship_tag": "ABX9TyPQ1Y+GLJZVdcEH9P5fNMjR",
      "include_colab_link": true
    },
    "kernelspec": {
      "name": "python3",
      "display_name": "Python 3"
    },
    "language_info": {
      "name": "python"
    }
  },
  "cells": [
    {
      "cell_type": "markdown",
      "metadata": {
        "id": "view-in-github",
        "colab_type": "text"
      },
      "source": [
        "<a href=\"https://colab.research.google.com/github/Swathiundamatla15/dl/blob/main/Copy_of_multiclass_classification_using_reuters_newsw.ipynb\" target=\"_parent\"><img src=\"https://colab.research.google.com/assets/colab-badge.svg\" alt=\"Open In Colab\"/></a>"
      ]
    },
    {
      "cell_type": "code",
      "execution_count": null,
      "metadata": {
        "id": "GF4fKoBTFg3_"
      },
      "outputs": [],
      "source": [
        "import tensorflow as tf\n",
        "import numpy as np"
      ]
    },
    {
      "cell_type": "code",
      "source": [
        "from keras.datasets import reuters"
      ],
      "metadata": {
        "id": "B98TIfEYFwUD"
      },
      "execution_count": null,
      "outputs": []
    },
    {
      "cell_type": "code",
      "source": [
        "(train_X, train_Y), (test_X, test_Y) = reuters.load_data(num_words=10000)"
      ],
      "metadata": {
        "colab": {
          "base_uri": "https://localhost:8080/"
        },
        "id": "oFwA1aiSFzIL",
        "outputId": "ea0e2fbf-ed08-4a27-f827-1ab0c92eb5e4"
      },
      "execution_count": null,
      "outputs": [
        {
          "output_type": "stream",
          "name": "stdout",
          "text": [
            "Downloading data from https://storage.googleapis.com/tensorflow/tf-keras-datasets/reuters.npz\n",
            "2110848/2110848 [==============================] - 0s 0us/step\n"
          ]
        }
      ]
    },
    {
      "cell_type": "code",
      "source": [
        "import numpy as np\n",
        "from keras.utils import to_categorical\n",
        "\n",
        "def OneHotEncoding_fn(ReutersData, dimension=10000):\n",
        "\n",
        "    OneHotEncoded_Data = np.zeros((len(ReutersData), dimension))\n",
        "    for i, sequence in enumerate(ReutersData):\n",
        "\n",
        "        OneHotEncoded_Data[i, sequence] = 1.\n",
        "    return OneHotEncoded_Data\n",
        "\n",
        "x_train = OneHotEncoding_fn(train_X)\n",
        "x_test = OneHotEncoding_fn(test_X)\n",
        "\n",
        "y_train = to_categorical(train_Y)\n",
        "y_test = to_categorical(test_Y)"
      ],
      "metadata": {
        "id": "W-U3krR2F3gv"
      },
      "execution_count": null,
      "outputs": []
    },
    {
      "cell_type": "code",
      "source": [
        "#create the layers\n",
        "from keras import models\n",
        "from keras import layers\n",
        "\n",
        "model = models.Sequential()\n",
        "model.add(layers.Dense(64, activation='relu', input_shape=(10000,)))\n",
        "model.add(layers.Dense(64, activation='relu'))\n",
        "model.add(layers.Dense(46, activation='softmax'))"
      ],
      "metadata": {
        "id": "TaWsThp8F-7T"
      },
      "execution_count": null,
      "outputs": []
    },
    {
      "cell_type": "code",
      "source": [
        "from keras import optimizers\n",
        "from keras import losses\n",
        "from keras import metrics\n",
        "\n",
        "X_validation = x_train[:800]\n",
        "X_train_without_val = x_train[800:]\n",
        "y_validation = y_train[:800]\n",
        "y_train_without_val = y_train[800:]\n",
        "\n",
        "\n",
        "model.compile(optimizer=optimizers.RMSprop(learning_rate=0.001, rho=0.9),\n",
        "             loss=losses.categorical_crossentropy,\n",
        "             metrics=[metrics.categorical_accuracy])\n",
        "\n",
        "history = model.fit(X_train_without_val,\n",
        "                    y_train_without_val,\n",
        "                    epochs=25,\n",
        "                    batch_size=512,\n",
        "                    validation_data=(X_validation,y_validation))"
      ],
      "metadata": {
        "colab": {
          "base_uri": "https://localhost:8080/"
        },
        "id": "GYl4_MLxGB47",
        "outputId": "f112551e-0ea9-4bbe-8dd7-befbaa6c8461"
      },
      "execution_count": null,
      "outputs": [
        {
          "output_type": "stream",
          "name": "stdout",
          "text": [
            "Epoch 1/25\n",
            "16/16 [==============================] - 2s 76ms/step - loss: 2.8360 - categorical_accuracy: 0.4671 - val_loss: 1.9643 - val_categorical_accuracy: 0.6037\n",
            "Epoch 2/25\n",
            "16/16 [==============================] - 2s 95ms/step - loss: 1.6351 - categorical_accuracy: 0.6641 - val_loss: 1.3965 - val_categorical_accuracy: 0.6963\n",
            "Epoch 3/25\n",
            "16/16 [==============================] - 2s 95ms/step - loss: 1.2091 - categorical_accuracy: 0.7424 - val_loss: 1.1739 - val_categorical_accuracy: 0.7412\n",
            "Epoch 4/25\n",
            "16/16 [==============================] - 1s 66ms/step - loss: 0.9833 - categorical_accuracy: 0.7897 - val_loss: 1.0725 - val_categorical_accuracy: 0.7625\n",
            "Epoch 5/25\n",
            "16/16 [==============================] - 1s 65ms/step - loss: 0.8182 - categorical_accuracy: 0.8256 - val_loss: 0.9967 - val_categorical_accuracy: 0.7825\n",
            "Epoch 6/25\n",
            "16/16 [==============================] - 1s 46ms/step - loss: 0.6853 - categorical_accuracy: 0.8525 - val_loss: 0.9408 - val_categorical_accuracy: 0.8037\n",
            "Epoch 7/25\n",
            "16/16 [==============================] - 1s 70ms/step - loss: 0.5722 - categorical_accuracy: 0.8801 - val_loss: 0.9187 - val_categorical_accuracy: 0.7962\n",
            "Epoch 8/25\n",
            "16/16 [==============================] - 1s 82ms/step - loss: 0.4872 - categorical_accuracy: 0.8981 - val_loss: 0.8823 - val_categorical_accuracy: 0.8112\n",
            "Epoch 9/25\n",
            "16/16 [==============================] - 1s 61ms/step - loss: 0.4081 - categorical_accuracy: 0.9174 - val_loss: 0.9014 - val_categorical_accuracy: 0.7987\n",
            "Epoch 10/25\n",
            "16/16 [==============================] - 1s 46ms/step - loss: 0.3521 - categorical_accuracy: 0.9273 - val_loss: 0.8628 - val_categorical_accuracy: 0.8200\n",
            "Epoch 11/25\n",
            "16/16 [==============================] - 1s 45ms/step - loss: 0.3031 - categorical_accuracy: 0.9360 - val_loss: 0.8765 - val_categorical_accuracy: 0.8125\n",
            "Epoch 12/25\n",
            "16/16 [==============================] - 1s 44ms/step - loss: 0.2644 - categorical_accuracy: 0.9434 - val_loss: 0.8843 - val_categorical_accuracy: 0.8100\n",
            "Epoch 13/25\n",
            "16/16 [==============================] - 1s 47ms/step - loss: 0.2326 - categorical_accuracy: 0.9457 - val_loss: 0.9033 - val_categorical_accuracy: 0.8025\n",
            "Epoch 14/25\n",
            "16/16 [==============================] - 1s 46ms/step - loss: 0.2121 - categorical_accuracy: 0.9482 - val_loss: 0.9215 - val_categorical_accuracy: 0.8125\n",
            "Epoch 15/25\n",
            "16/16 [==============================] - 1s 45ms/step - loss: 0.1879 - categorical_accuracy: 0.9512 - val_loss: 0.9077 - val_categorical_accuracy: 0.8100\n",
            "Epoch 16/25\n",
            "16/16 [==============================] - 1s 45ms/step - loss: 0.1740 - categorical_accuracy: 0.9523 - val_loss: 0.9054 - val_categorical_accuracy: 0.8163\n",
            "Epoch 17/25\n",
            "16/16 [==============================] - 1s 46ms/step - loss: 0.1608 - categorical_accuracy: 0.9548 - val_loss: 0.9307 - val_categorical_accuracy: 0.8100\n",
            "Epoch 18/25\n",
            "16/16 [==============================] - 1s 46ms/step - loss: 0.1567 - categorical_accuracy: 0.9553 - val_loss: 0.9383 - val_categorical_accuracy: 0.8163\n",
            "Epoch 19/25\n",
            "16/16 [==============================] - 1s 45ms/step - loss: 0.1419 - categorical_accuracy: 0.9571 - val_loss: 0.9495 - val_categorical_accuracy: 0.8037\n",
            "Epoch 20/25\n",
            "16/16 [==============================] - 1s 44ms/step - loss: 0.1394 - categorical_accuracy: 0.9555 - val_loss: 0.9781 - val_categorical_accuracy: 0.8087\n",
            "Epoch 21/25\n",
            "16/16 [==============================] - 1s 44ms/step - loss: 0.1298 - categorical_accuracy: 0.9569 - val_loss: 0.9709 - val_categorical_accuracy: 0.8050\n",
            "Epoch 22/25\n",
            "16/16 [==============================] - 1s 45ms/step - loss: 0.1285 - categorical_accuracy: 0.9578 - val_loss: 0.9749 - val_categorical_accuracy: 0.8112\n",
            "Epoch 23/25\n",
            "16/16 [==============================] - 1s 69ms/step - loss: 0.1235 - categorical_accuracy: 0.9565 - val_loss: 1.0000 - val_categorical_accuracy: 0.8050\n",
            "Epoch 24/25\n",
            "16/16 [==============================] - 1s 77ms/step - loss: 0.1226 - categorical_accuracy: 0.9572 - val_loss: 0.9984 - val_categorical_accuracy: 0.8037\n",
            "Epoch 25/25\n",
            "16/16 [==============================] - 1s 61ms/step - loss: 0.1139 - categorical_accuracy: 0.9573 - val_loss: 1.0241 - val_categorical_accuracy: 0.8050\n"
          ]
        }
      ]
    },
    {
      "cell_type": "code",
      "source": [
        "import matplotlib.pyplot as plt\n",
        "\n",
        "history_dict = history.history\n",
        "loss_values = history_dict['loss']\n",
        "val_loss_values = history_dict['val_loss']\n",
        "\n",
        "epochs = range(1, len(loss_values) + 1)\n",
        "\n",
        "plt.plot(epochs, loss_values, 'g--', label='Training loss')\n",
        "plt.plot(epochs, val_loss_values, 'r', label='Validation loss')\n",
        "plt.title('Training and validation loss')\n",
        "plt.xlabel('Epochs')\n",
        "plt.ylabel('Loss')\n",
        "plt.legend()\n",
        "\n",
        "plt.show()"
      ],
      "metadata": {
        "colab": {
          "base_uri": "https://localhost:8080/",
          "height": 472
        },
        "id": "iSq_3KqxGzAr",
        "outputId": "d9cf65a2-5cbe-4678-d255-f275a77ba3f8"
      },
      "execution_count": null,
      "outputs": [
        {
          "output_type": "display_data",
          "data": {
            "text/plain": [
              "<Figure size 640x480 with 1 Axes>"
            ],
            "image/png": "[encoded data removed]"
          },
          "metadata": {}
        }
      ]
    }
  ]
}